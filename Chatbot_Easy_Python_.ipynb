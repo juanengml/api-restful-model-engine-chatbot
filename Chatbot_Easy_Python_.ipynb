{
  "nbformat": 4,
  "nbformat_minor": 0,
  "metadata": {
    "colab": {
      "name": "Chatbot Easy Python .ipynb",
      "provenance": [],
      "collapsed_sections": []
    },
    "kernelspec": {
      "name": "python3",
      "display_name": "Python 3"
    }
  },
  "cells": [
    {
      "cell_type": "code",
      "metadata": {
        "id": "ErksmkmQJ_XI",
        "colab_type": "code",
        "colab": {
          "base_uri": "https://localhost:8080/",
          "height": 350
        },
        "outputId": "027e6096-5882-4af6-be58-8c02b054af65"
      },
      "source": [
        "!pip install chatterbot==0.8.7"
      ],
      "execution_count": 1,
      "outputs": [
        {
          "output_type": "stream",
          "text": [
            "Requirement already satisfied: chatterbot==0.8.7 in /usr/local/lib/python3.6/dist-packages (0.8.7)\n",
            "Requirement already satisfied: pymongo<4.0,>=3.3 in /usr/local/lib/python3.6/dist-packages (from chatterbot==0.8.7) (3.11.0)\n",
            "Requirement already satisfied: nltk<4.0,>=3.2 in /usr/local/lib/python3.6/dist-packages (from chatterbot==0.8.7) (3.2.5)\n",
            "Requirement already satisfied: sqlalchemy<1.3,>=1.2 in /usr/local/lib/python3.6/dist-packages (from chatterbot==0.8.7) (1.2.19)\n",
            "Requirement already satisfied: chatterbot-corpus<1.2,>=1.1 in /usr/local/lib/python3.6/dist-packages (from chatterbot==0.8.7) (1.1.4)\n",
            "Requirement already satisfied: python-twitter<4.0,>=3.0 in /usr/local/lib/python3.6/dist-packages (from chatterbot==0.8.7) (3.5)\n",
            "Requirement already satisfied: python-dateutil<2.7,>=2.6 in /usr/local/lib/python3.6/dist-packages (from chatterbot==0.8.7) (2.6.1)\n",
            "Requirement already satisfied: mathparse<0.2,>=0.1 in /usr/local/lib/python3.6/dist-packages (from chatterbot==0.8.7) (0.1.2)\n",
            "Requirement already satisfied: six in /usr/local/lib/python3.6/dist-packages (from nltk<4.0,>=3.2->chatterbot==0.8.7) (1.15.0)\n",
            "Requirement already satisfied: PyYAML<4.0,>=3.12 in /usr/local/lib/python3.6/dist-packages (from chatterbot-corpus<1.2,>=1.1->chatterbot==0.8.7) (3.13)\n",
            "Requirement already satisfied: requests-oauthlib in /usr/local/lib/python3.6/dist-packages (from python-twitter<4.0,>=3.0->chatterbot==0.8.7) (1.3.0)\n",
            "Requirement already satisfied: future in /usr/local/lib/python3.6/dist-packages (from python-twitter<4.0,>=3.0->chatterbot==0.8.7) (0.16.0)\n",
            "Requirement already satisfied: requests in /usr/local/lib/python3.6/dist-packages (from python-twitter<4.0,>=3.0->chatterbot==0.8.7) (2.23.0)\n",
            "Requirement already satisfied: oauthlib>=3.0.0 in /usr/local/lib/python3.6/dist-packages (from requests-oauthlib->python-twitter<4.0,>=3.0->chatterbot==0.8.7) (3.1.0)\n",
            "Requirement already satisfied: chardet<4,>=3.0.2 in /usr/local/lib/python3.6/dist-packages (from requests->python-twitter<4.0,>=3.0->chatterbot==0.8.7) (3.0.4)\n",
            "Requirement already satisfied: urllib3!=1.25.0,!=1.25.1,<1.26,>=1.21.1 in /usr/local/lib/python3.6/dist-packages (from requests->python-twitter<4.0,>=3.0->chatterbot==0.8.7) (1.24.3)\n",
            "Requirement already satisfied: certifi>=2017.4.17 in /usr/local/lib/python3.6/dist-packages (from requests->python-twitter<4.0,>=3.0->chatterbot==0.8.7) (2020.6.20)\n",
            "Requirement already satisfied: idna<3,>=2.5 in /usr/local/lib/python3.6/dist-packages (from requests->python-twitter<4.0,>=3.0->chatterbot==0.8.7) (2.10)\n"
          ],
          "name": "stdout"
        }
      ]
    },
    {
      "cell_type": "markdown",
      "metadata": {
        "id": "66e01LjfTBTE",
        "colab_type": "text"
      },
      "source": [
        "# Full Code !"
      ]
    },
    {
      "cell_type": "code",
      "metadata": {
        "id": "BoV7BADIKB1-",
        "colab_type": "code",
        "colab": {
          "base_uri": "https://localhost:8080/",
          "height": 208
        },
        "outputId": "409085b0-eba6-4851-dcd6-28b3f8f8b0b0"
      },
      "source": [
        "from chatterbot.trainers import ListTrainer\n",
        "from chatterbot import ChatBot\n",
        "\n",
        "bot = ChatBot('TW Chat Bot')\n",
        "\n",
        "conversa = ['Oi', 'Olá', 'Tudo bem?', 'Tudo ótimo', \n",
        "            'Você gosta de programar?', 'Sim, eu programo em Python',\n",
        "            'Manja NLP ?','Sim, uso Chatterbot engine para construir meus modelos',\n",
        "            'Conhece Keras ?', 'Conheço, acho muito legal para construir meus modelos de NLP'\n",
        "            ]\n",
        "\n",
        "bot.set_trainer(ListTrainer)\n",
        "bot.train(conversa)\n",
        "\n",
        "while True:\n",
        "    pergunta = input(\"Usuário: \")\n",
        "    resposta = bot.get_response(pergunta)\n",
        "    if float(resposta.confidence) > 0.5:\n",
        "        print('TW Bot: ', resposta)        \n",
        "    else:\n",
        "        print('TW Bot: Ainda não sei responder esta pergunta')\n",
        "        break\n"
      ],
      "execution_count": 9,
      "outputs": [
        {
          "output_type": "stream",
          "text": [
            "List Trainer: [####################] 100%\n",
            "Usuário: Oi\n",
            "TW Bot:  Olá\n",
            "Usuário: Tudo bem ?\n",
            "TW Bot:  Tudo ótimo\n",
            "Usuário: Programa ? \n",
            "TW Bot:  Sim, eu programo em Python\n",
            "Usuário: Conhece Keras ?\n",
            "TW Bot:  Conheço, acho muito legal para construir meus modelos de NLP\n",
            "Usuário: OK\n",
            "TW Bot: Ainda não sei responder esta pergunta\n"
          ],
          "name": "stdout"
        }
      ]
    },
    {
      "cell_type": "code",
      "metadata": {
        "id": "Q-ab9ctfKcQh",
        "colab_type": "code",
        "colab": {}
      },
      "source": [
        ""
      ],
      "execution_count": null,
      "outputs": []
    }
  ]
}